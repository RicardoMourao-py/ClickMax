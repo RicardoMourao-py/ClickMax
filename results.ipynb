{
  "nbformat": 4,
  "nbformat_minor": 0,
  "metadata": {
    "colab": {
      "provenance": [],
      "authorship_tag": "ABX9TyPHqEBSq+8NeTSJUySVcQ+h",
      "include_colab_link": true
    },
    "kernelspec": {
      "name": "python3",
      "display_name": "Python 3"
    },
    "language_info": {
      "name": "python"
    }
  },
  "cells": [
    {
      "cell_type": "markdown",
      "metadata": {
        "id": "view-in-github",
        "colab_type": "text"
      },
      "source": [
        "<a href=\"https://colab.research.google.com/github/RicardoMourao-py/CliqueMax/blob/main/results.ipynb\" target=\"_parent\"><img src=\"https://colab.research.google.com/assets/colab-badge.svg\" alt=\"Open In Colab\"/></a>"
      ]
    },
    {
      "cell_type": "markdown",
      "source": [
        "# Análise de Redes Sociais: encontrando a clique máxima em um grafo.\n",
        "\n",
        "- Aluno: Ricardo Mourão Rodrigues Filho"
      ],
      "metadata": {
        "id": "mc9SexVZslpm"
      }
    },
    {
      "cell_type": "markdown",
      "source": [
        "![Exemplo Clique](https://upload.wikimedia.org/wikipedia/commons/thumb/d/d0/VR_complex.svg/1200px-VR_complex.svg.png)\n",
        "\n",
        "\n",
        "A análise de redes sociais (ARS) é uma abordagem oriunda de áreas tais como Sociologia, Psicologia Social e Antropologia. Tal abordagem estuda as ligações relacionais (*relational tie*) entre atores sociais. Os atores na ARS podem ser tanto pessoas e empresas, analisadas como unidades individuais, quanto unidades sociais coletivas como, por exemplo, departamentos dentro de uma organização, agências de serviço público em uma cidade, estados-nações de um continente, dentre outras. A ARS difere fundamentalmente de outros estudos pelo fato de que sua ênfase não é nos atributos (características) dos atores, mas nas ligações entre eles.\n",
        "\n",
        "A ideia de uma clique em um grafo é relativamente simples. No nível mais geral, uma clique é um subconjunto de uma rede no qual os atores são mais próximos entre si do que com outros membros da rede. Em termo de laços de amizade, por exemplo, não é incomum encontrar grupos humanos que formam cliques baseando-se em idade, gênero, raça, etnia, religião, ideologia, e muitas coisas coisas. Uma clique é, portanto, um conjunto de vértices em um grafo em que cada par de vértices está diretamente conectado por uma aresta.\n",
        "\n",
        "Encontrar a clique máxima em um grafo é uma tarefa computacionalmente desafiadora devido à natureza combinatória do problema.  A dificuldade computacional surge da necessidade de explorar todas as combinações possíveis de vértices para identificar a maior clique, o que se torna exponencial em relação ao número de vértices. Isso resulta em uma complexidade computacional alta, mesmo para grafos moderadamente grandes.\n",
        "\n",
        "A importância de estudar cliques está notavelmente presente na análise de redes sociais, onde as cliques representam grupos coesos de indivíduos que compartilham interesses, amizades ou conexões em comum. A identificação de cliques ajuda a entender a estrutura de uma rede social, identificar influenciadores e grupos de afinidade, além de auxiliar na detecção de comunidades e na análise de dinâmicas sociais.\n",
        "\n",
        "As cliques são importantes, pois além de desenvolver em seus membros comportamentos homogêneos, elas têm, por definição, grande proximidade, aumentando a velocidade das trocas. Assim, informações dirigidas a uma clique são rapidamente absorvidas pelos seus membros, que tendem a percebê-las de forma semelhante. Isso é importante, por exemplo, em estratégias de segmentação.\n",
        "\n",
        "Portanto, a resolução eficiente do problema da clique máxima tem aplicações valiosas em áreas que vão desde a ciência da computação até a análise de dados em redes sociais.\n",
        "\n",
        "Logo, com o intuito de analisar esse problema, este notebook vai estudar implementações que podem ajudar na mitigação deste cenário. Sendo elas:\n",
        "\n",
        "- **Busca Exaustiva**: A exaustão é uma abordagem que seleciona iterativamente os vértices para formar um clique, geralmente começando com um vértice e adicionando outros que tenham o maior número de vizinhos já na clique. Sendo assim, vamos explorar todas as cliques presentes no grafo  e selecionar a que tem maior tamanho.\n",
        "- **Heurística**: Análise de todas as cliques do grafo, escolhendo a quantidade de arestas que um nó possui (Adjacência).\n",
        "- **OpenMP**: A implementação de uma solução com OpenMP para encontrar cliques em um grafo envolve a paralelização das iterações do algoritmo em diferentes threads. O OpenMP simplifica a criação de threads e a coordenação entre elas.\n",
        "- **MPI**: Nesta implementação, dividimos o problema em várias partes e distribuímos para diferentes processadores usando a biblioteca MPI (Message Passing Interface). Cada processador será responsável por encontrar cliques em uma parte do grafo, e os resultados serão combinados no final para encontrar todas as cliques no grafo."
      ],
      "metadata": {
        "id": "KIbTBObzmWRe"
      }
    },
    {
      "cell_type": "markdown",
      "source": [
        "## Setup"
      ],
      "metadata": {
        "id": "VvE30Sarsvih"
      }
    },
    {
      "cell_type": "code",
      "execution_count": 1,
      "metadata": {
        "colab": {
          "base_uri": "https://localhost:8080/"
        },
        "id": "jfWYjfNZsdIK",
        "outputId": "3c643e11-215c-48a7-e55d-5cb96fd097c2"
      },
      "outputs": [
        {
          "output_type": "stream",
          "name": "stdout",
          "text": [
            "Cloning into 'CliqueMax'...\n",
            "remote: Enumerating objects: 103, done.\u001b[K\n",
            "remote: Counting objects: 100% (103/103), done.\u001b[K\n",
            "remote: Compressing objects: 100% (73/73), done.\u001b[K\n",
            "remote: Total 103 (delta 46), reused 70 (delta 28), pack-reused 0\u001b[K\n",
            "Receiving objects: 100% (103/103), 602.77 KiB | 5.11 MiB/s, done.\n",
            "Resolving deltas: 100% (46/46), done.\n",
            "/content/CliqueMax\n",
            "Requirement already satisfied: networkx in /usr/local/lib/python3.10/dist-packages (from -r requirements.txt (line 1)) (3.2.1)\n"
          ]
        }
      ],
      "source": [
        "!git clone https://github.com/RicardoMourao-py/CliqueMax\n",
        "%cd \"CliqueMax\"\n",
        "!pip install -r requirements.txt"
      ]
    },
    {
      "cell_type": "markdown",
      "source": [
        "## Bibliotecas"
      ],
      "metadata": {
        "id": "ErcKXR4nqupc"
      }
    },
    {
      "cell_type": "code",
      "source": [
        "import os\n",
        "import subprocess\n",
        "import time\n",
        "from datetime import datetime\n",
        "import matplotlib.pyplot as plt"
      ],
      "metadata": {
        "id": "kPGxVRvWtgL_"
      },
      "execution_count": 2,
      "outputs": []
    },
    {
      "cell_type": "markdown",
      "source": [
        "## Permissão para Compilados"
      ],
      "metadata": {
        "id": "6S1KH4e0ga2Q"
      }
    },
    {
      "cell_type": "code",
      "source": [
        "!chmod +x compilacoes/heuristica/clique_heuristica_20\n",
        "!chmod +x compilacoes/heuristica/clique_heuristica_40\n",
        "!chmod +x compilacoes/heuristica/clique_heuristica_60\n",
        "!chmod +x compilacoes/heuristica/clique_heuristica_80\n",
        "!chmod +x compilacoes/heuristica/clique_heuristica_100\n",
        "!chmod +x compilacoes/heuristica/clique_heuristica_120"
      ],
      "metadata": {
        "id": "eo_IRey9mNXK"
      },
      "execution_count": 3,
      "outputs": []
    },
    {
      "cell_type": "code",
      "source": [
        "!chmod +x compilacoes/exaustiva/clique_exaustivo_20\n",
        "!chmod +x compilacoes/exaustiva/clique_exaustivo_40\n",
        "!chmod +x compilacoes/exaustiva/clique_exaustivo_60\n",
        "!chmod +x compilacoes/exaustiva/clique_exaustivo_80\n",
        "!chmod +x compilacoes/exaustiva/clique_exaustivo_100\n",
        "!chmod +x compilacoes/exaustiva/clique_exaustivo_120"
      ],
      "metadata": {
        "id": "FMBiNdQ1iuHI"
      },
      "execution_count": 4,
      "outputs": []
    },
    {
      "cell_type": "code",
      "source": [
        "!chmod +x compilacoes/exaustiva-omp/clique_exaustivo_omp_20\n",
        "!chmod +x compilacoes/exaustiva-omp/clique_exaustivo_omp_40\n",
        "!chmod +x compilacoes/exaustiva-omp/clique_exaustivo_omp_60\n",
        "!chmod +x compilacoes/exaustiva-omp/clique_exaustivo_omp_80\n",
        "!chmod +x compilacoes/exaustiva-omp/clique_exaustivo_omp_100\n",
        "!chmod +x compilacoes/exaustiva-omp/clique_exaustivo_omp_120"
      ],
      "metadata": {
        "id": "6Z6GOAIhtRWn"
      },
      "execution_count": 5,
      "outputs": []
    },
    {
      "cell_type": "markdown",
      "source": [
        "## Tempo de Execução vs Tamanho Grafo"
      ],
      "metadata": {
        "id": "ylP7FgCagp8q"
      }
    },
    {
      "cell_type": "markdown",
      "source": [
        "Antes da explicação de cada implementação, os resultados de tempo de execução a medida que o tamanho do grafo aumenta são diferentes do esperado, pois apesar de conseguir resolver exaustivamente o problema e o tamanho do grafo aumentar, o tempo de processamento para um mesmo tamanho foi maior. Sendo assim, conseguimos definir que computação distribuída ou paralelizações nem sempre resultará em um tempo de execução mais rápido. A eficácia da paralelização depende de vários fatores, incluindo a natureza do problema, a quantidade de trabalho que pode ser dividida em paralelo, a comunicação necessária entre os diferentes processos ou threads, e a arquitetura do sistema. Observe os resultados abaixo:"
      ],
      "metadata": {
        "id": "iYLt7hee-_so"
      }
    },
    {
      "cell_type": "code",
      "source": [
        "# arquivos executaveis\n",
        "compilados_exaustiva = sorted(map(lambda x: os.path.join(\"compilacoes/exaustiva/\", x), os.listdir(\"compilacoes/exaustiva/\")), key=lambda x: int(x.split(\"_\")[-1]))\n",
        "compilados_heurisitca = sorted(map(lambda x: os.path.join(\"compilacoes/heuristica/\", x), os.listdir(\"compilacoes/heuristica/\")), key=lambda x: int(x.split(\"_\")[-1]))\n",
        "compilados_exaustiva_omp = sorted(map(lambda x: os.path.join(\"compilacoes/exaustiva-omp/\", x), os.listdir(\"compilacoes/exaustiva-omp/\")), key=lambda x: int(x.split(\"_\")[-1]))\n",
        "output_exaustiva_mpi = sorted(map(lambda x: os.path.join(\"out_mpi/\", x), os.listdir(\"out_mpi/\")), key=lambda x: int(x.split(\".out\")[0].split(\"_\")[-1]))\n",
        "\n",
        "tempos_exaustiva = []\n",
        "tempos_heuristica = []\n",
        "tempos_exaustiva_omp  = []\n",
        "tempos_exaustiva_mpi = []\n",
        "\n",
        "for i in output_exaustiva_mpi[:-1]:\n",
        "  with open(i, 'r') as file:\n",
        "      content = file.read()\n",
        "      out = content.split('\\n')\n",
        "      time1 = datetime.strptime(out[0], '%H:%M:%S')\n",
        "      time2 = datetime.strptime(out[2], '%H:%M:%S')\n",
        "      delta = (time2 - time1).total_seconds()\n",
        "      tempos_exaustiva_mpi.append(delta)\n",
        "\n",
        "size_graph = list(range(20,120,20))\n",
        "\n",
        "for i in range(len(size_graph)):\n",
        "    comando = [compilados_exaustiva[i]]\n",
        "    inicio = time.time()\n",
        "    subprocess.run(comando, text=True, capture_output=True)\n",
        "    fim = time.time()\n",
        "    tempo_execucao_exaustiva = fim - inicio\n",
        "    tempos_exaustiva.append(tempo_execucao_exaustiva)\n",
        "\n",
        "    comando = [compilados_heurisitca[i]]\n",
        "    inicio = time.time()\n",
        "    subprocess.run(comando, text=True, capture_output=True)\n",
        "    fim = time.time()\n",
        "    tempo_execucao_heuristica = fim - inicio\n",
        "    tempos_heuristica.append(tempo_execucao_heuristica)\n",
        "\n",
        "    comando = [compilados_exaustiva_omp[i]]\n",
        "    inicio = time.time()\n",
        "    subprocess.run(comando, text=True, capture_output=True)\n",
        "    fim = time.time()\n",
        "    tempo_execucao_exaustiva_omp = fim - inicio\n",
        "    tempos_exaustiva_omp.append(tempo_execucao_exaustiva_omp)\n",
        "\n",
        "\n",
        "# Crie o gráfico\n",
        "plt.plot(size_graph, tempos_exaustiva, label=\"Exaustiva\", marker='o')\n",
        "plt.plot(size_graph, tempos_heuristica, label=\"Heuristica\", marker='o')\n",
        "plt.plot(size_graph, tempos_exaustiva_omp, label=\"Exaustiva OpenMP\", marker='o')\n",
        "plt.plot(size_graph, tempos_exaustiva_mpi, label=\"Exaustiva MPI\", marker='o')\n",
        "plt.xlabel(\"Tamanho do Grafo (N)\")\n",
        "plt.ylabel(\"Tempo de Execução (s)\")\n",
        "plt.legend()\n",
        "plt.title(\"Tempo de Execução vs Tamanho do Grafo\")\n",
        "\n",
        "# Exiba o gráfico\n",
        "plt.grid(True)\n",
        "plt.show()"
      ],
      "metadata": {
        "colab": {
          "base_uri": "https://localhost:8080/",
          "height": 472
        },
        "id": "PQFbjjxDddom",
        "outputId": "52098ffa-bcbf-4654-e784-354db1156a71"
      },
      "execution_count": 6,
      "outputs": [
        {
          "output_type": "display_data",
          "data": {
            "text/plain": [
              "<Figure size 640x480 with 1 Axes>"
            ],
            "image/png": "[encoded data removed]"
          },
          "metadata": {}
        }
      ]
    },
    {
      "cell_type": "markdown",
      "source": [
        "De acordo com os resultados acima, percebemos que as paralelizações não processaram em um tempo melhor que a exaustiva, portanto, as considerações abaixo devem ser consideradas:\n",
        "\n",
        "- **Natureza do Problema**: Se o problema não puder ser dividido em tarefas independentes, a paralelização pode não oferecer benefícios significativos.\n",
        "\n",
        "- **Quantidade de Trabalho Paralelizável**: Se o trabalho for altamente sequencial, com dependências entre as etapas, pode haver limitações na paralelização efetiva.\n",
        "\n",
        "- **Comunicação entre Processos/Threads**: Se a comunicação entre os processos ou threads for intensiva, os custos de comunicação podem superar os benefícios da paralelização.\n",
        "\n",
        "- **Arquitetura do Sistema**: A eficácia da paralelização pode depender da arquitetura do sistema. Alguns problemas são mais adequados para paralelização em sistemas distribuídos (MPI), enquanto outros podem ser mais eficientemente paralelizados em sistemas de memória compartilhada (OpenMP). Com isso, a disponibilidade de máquinas do Google Colab devem ser analisadas.\n",
        "\n",
        "- **Overhead de Paralelização**: A introdução de paralelização pode adicionar overhead de gerenciamento de tarefas, sincronização, etc. Isso pode afetar negativamente o desempenho, especialmente para problemas pequenos onde o overhead relativo pode ser significativo."
      ],
      "metadata": {
        "id": "bh0ki0GTBF49"
      }
    },
    {
      "cell_type": "markdown",
      "source": [
        "## Executando todas Implementações"
      ],
      "metadata": {
        "id": "mOYfS0YAwfWe"
      }
    },
    {
      "cell_type": "markdown",
      "source": [
        "Apesar do tempo de execução não refletir no desempenho, perceba abaixo que as três implementações garantem o mesmo tamanho da clique máxima encontrada e garantem os mesmos resultados, em que é totalmente plausível visto que paralelizações não devem alterar os resultados."
      ],
      "metadata": {
        "id": "OV5ogA8HDzT8"
      }
    },
    {
      "cell_type": "code",
      "source": [
        "print(\"--------------------- Exaustiva -------------------\")\n",
        "!compilacoes/exaustiva/clique_exaustivo_60\n",
        "print(\"--------------------- Heuristica -------------------\")\n",
        "!compilacoes/heuristica/clique_heuristica_60\n",
        "print(\"------------------ Exaustiva OpenMP -----------------\")\n",
        "!compilacoes/exaustiva-omp/clique_exaustivo_omp_60\n",
        "print(\"--------------------- Exaustiva MPI -------------------\")\n",
        "with open('out_mpi/slurm_60.out', 'r') as file:\n",
        "  content = file.read()\n",
        "  print(content.split('\\n')[1])\n",
        "print(\"----------- Clique Máximo (Verificação) -------------\")\n",
        "!python3 utils/clique_correto.py"
      ],
      "metadata": {
        "colab": {
          "base_uri": "https://localhost:8080/"
        },
        "id": "OzMLLqHgwe9Z",
        "outputId": "e723cbd0-7698-4f4a-d0ea-95dc0892241d"
      },
      "execution_count": 7,
      "outputs": [
        {
          "output_type": "stream",
          "name": "stdout",
          "text": [
            "--------------------- Exaustiva -------------------\n",
            "Clique máxima encontrada: [9, 11, 12, 13, 20, 35, 46, 51, 53, 55, 59, 60]\n",
            "--------------------- Heuristica -------------------\n",
            "Clique máxima encontrada: [9, 11, 12, 14, 18, 20, 35, 43, 51, 59, 60]\n",
            "------------------ Exaustiva OpenMP -----------------\n",
            "Clique máxima encontrada: [9, 11, 12, 13, 20, 35, 46, 51, 53, 55, 59, 60]\n",
            "--------------------- Exaustiva MPI -------------------\n",
            "Clique máxima encontrada: [9, 11, 12, 13, 20, 35, 46, 51, 53, 55, 59, 60]\n",
            "----------- Clique Máximo (Verificação) -------------\n",
            "Clique máxima encontrada: [9, 11, 12, 13, 24, 34, 35, 40, 46, 51, 55, 60]\n"
          ]
        }
      ]
    },
    {
      "cell_type": "markdown",
      "source": [
        "Portanto, as células abaixo explicam como foi realizada as implementações e as possíveis melhorias e causas do alto tempo de execução."
      ],
      "metadata": {
        "id": "pf-SnTRPE-9I"
      }
    },
    {
      "cell_type": "markdown",
      "source": [
        "## Abordagem Exaustiva\n",
        "\n"
      ],
      "metadata": {
        "id": "Vkw1dHPXwCSp"
      }
    },
    {
      "cell_type": "markdown",
      "source": [
        "Em todas implementaçãoes, serão usadas compilações já realizadas e que se encontram na pasta `CliqueMax/compilacoes`, visto que é necessário seguir uma padronização, já que MPI não pode ser executado no Colab. Contudo, caso o usuário queira analisar os resultados gerando um novo grafo, basta executar o comando em uma célula: `!python3 utils/gera_grafo.py`\n",
        "\n",
        "Observe no código abaixo as seguintes considerações:\n",
        "\n",
        "- **Função EncontraTodosCliquesMax**: Esta função encontra todas as cliques máximas no grafo usando um algoritmo de busca exaustiva. A ideia é iterar sobre todos os vértices como ponto de partida, construindo cliques máximas por meio de chamadas recursivas. A função mantém três vetores: candidatos (vértices candidatos a serem adicionados à clique), cliqueAtual (clique em construção) e cliqueMaximo (clique máxima encontrada). A função é chamada recursivamente até que todos os vértices sejam considerados como parte da clique. Ao final, a clique máxima é atualizada se uma nova clique máxima for encontrada.\n",
        "\n",
        "- **Função Main**: A função principal do programa. Ela chama a função LerGrafo para obter o grafo a partir do arquivo \"grafo.txt\" e, em seguida, inicializa vetores necessários para a execução da função EncontraTodosCliquesMax. Após encontrar todas as cliques máximas, o programa imprime a clique máxima encontrada.\n",
        "\n",
        "- **Impressão da Clique Máxima**: A clique máxima encontrada é impressa na tela, e os vértices são ordenados antes da impressão. Cada vértice é impresso com seu índice mais 1, para corresponder à indexação dos vértices no formato do arquivo de entrada.\n",
        "\n",
        "Em resumo, o código lê um grafo de um arquivo, encontra todas as cliques máximas no grafo não direcionado usando busca em profundidade e imprime a clique máxima encontrada."
      ],
      "metadata": {
        "id": "CQ-ErCir6uPy"
      }
    },
    {
      "cell_type": "markdown",
      "source": [
        "``` c\n",
        "#include <iostream>\n",
        "#include <fstream>\n",
        "#include <vector>\n",
        "#include <string>\n",
        "#include <cmath>\n",
        "#include <algorithm>\n",
        "using namespace std;\n",
        "\n",
        "// Função para ler o grafo a partir do arquivo de entrada\n",
        "vector<vector<int>> LerGrafo(const string& nomeArquivo, int& numVertices) {\n",
        "    ifstream arquivo(nomeArquivo);\n",
        "    int numArestas;\n",
        "    arquivo >> numVertices >> numArestas;\n",
        "\n",
        "    vector<vector<int>> grafo(numVertices, vector<int>(numVertices, 0));\n",
        "\n",
        "    for (int i = 0; i < numArestas; ++i) {\n",
        "        int u, v;\n",
        "        arquivo >> u >> v;\n",
        "        grafo[u - 1][v - 1] = 1;\n",
        "        grafo[v - 1][u - 1] = 1;  // O grafo é não direcionado\n",
        "    }\n",
        "\n",
        "    arquivo.close();\n",
        "\n",
        "    return grafo;\n",
        "}\n",
        "\n",
        "void EncontraTodosCliquesMax(vector<vector<int>>& grafo, vector<int>& candidatos, vector<int>& cliqueAtual, vector<int>& cliqueMaximo) {\n",
        "    if (candidatos.empty()) {\n",
        "        // Verifica se o clique atual é um clique (todos os vértices conectados entre si)\n",
        "        bool ehClique = true;\n",
        "        for (size_t i = 0; i < cliqueAtual.size() - 1 && ehClique; ++i) {\n",
        "            for (size_t j = i + 1; j < cliqueAtual.size() && ehClique; ++j) {\n",
        "                if (grafo[cliqueAtual[i]][cliqueAtual[j]] == 0) {\n",
        "                    ehClique = false;\n",
        "                }\n",
        "            }\n",
        "        }\n",
        "\n",
        "        if (ehClique && cliqueAtual.size() > cliqueMaximo.size()) {\n",
        "            cliqueMaximo = cliqueAtual;\n",
        "        }\n",
        "\n",
        "        return;\n",
        "    }\n",
        "\n",
        "    // usa uma cópia dos candidatos\n",
        "    vector<int> candidatosCopia = candidatos;\n",
        "\n",
        "    while (!candidatosCopia.empty()) {\n",
        "        int v = candidatosCopia.back();\n",
        "        candidatosCopia.pop_back();\n",
        "\n",
        "        // Inicia com o vértice atual\n",
        "        cliqueAtual.push_back(v);\n",
        "\n",
        "        // atualiza a lista de candidatos\n",
        "        vector<int> novosCandidatos;\n",
        "        for (size_t i = 0; i < candidatosCopia.size(); ++i) {\n",
        "            int u = candidatosCopia[i];\n",
        "            if (grafo[v][u] == 1) {\n",
        "                novosCandidatos.push_back(u);\n",
        "            }\n",
        "        }\n",
        "\n",
        "        EncontraTodosCliquesMax(grafo, novosCandidatos, cliqueAtual, cliqueMaximo);\n",
        "        cliqueAtual.pop_back();\n",
        "    }\n",
        "}\n",
        "\n",
        "\n",
        "int main() {\n",
        "    int numVertices;\n",
        "    vector<vector<int>> grafo;\n",
        "    vector<int> candidatos;\n",
        "    vector<int> cliqueAtual;\n",
        "    vector<int> cliqueMaximo;\n",
        "\n",
        "    grafo = LerGrafo(\"grafo.txt\", numVertices);\n",
        "    numVertices = grafo.size();\n",
        "    for (int i = 0; i < numVertices; ++i) {\n",
        "        candidatos.push_back(i);\n",
        "    }\n",
        "\n",
        "    EncontraTodosCliquesMax(grafo, candidatos, cliqueAtual, cliqueMaximo);\n",
        "    sort(cliqueMaximo.begin(),cliqueMaximo.end(), [](auto& i, auto& j){return i < j;});\n",
        "\n",
        "    cout << \"Clique máxima encontrada: [\";\n",
        "    for (size_t i = 0; i < cliqueMaximo.size(); ++i) {\n",
        "        cout << cliqueMaximo[i] + 1;\n",
        "        if (i < cliqueMaximo.size() - 1) {\n",
        "            cout << \", \";\n",
        "        }\n",
        "    }\n",
        "    cout << \"]\" << endl;\n",
        "\n",
        "    return 0;\n",
        "}\n",
        "```"
      ],
      "metadata": {
        "id": "RKVKD82ZiJ6w"
      }
    },
    {
      "cell_type": "markdown",
      "source": [
        "Para compilar e executar:\n",
        "```\n",
        "!g++ -Wall -O3 -g src/clique_exaustivo.cpp -o clique_exaustivo\n",
        "!./clique_exaustivo\n",
        "````"
      ],
      "metadata": {
        "id": "TQQZ8o28r6TJ"
      }
    },
    {
      "cell_type": "markdown",
      "source": [
        " ## Abordagem Heurística"
      ],
      "metadata": {
        "id": "vd21omFuwFHu"
      }
    },
    {
      "cell_type": "markdown",
      "source": [
        "Certamente, podemos adicionar uma heurística para otimizar o algoritmo exaustivo. Além disso, podemos implementar uma poda para evitar o cálculo de ramos que sabemos antecipadamente que não levarão a uma solução melhor. Uma abordagem comum é usar a ideia de limites superiores (upper bounds) e limites inferiores (lower bounds).\n",
        "\n",
        "De acordo com o pseudocódigo fornecido, foi implementada a heurística de ordenação por grau e uma poda usando limites superiores e inferiores:"
      ],
      "metadata": {
        "id": "8v4dYtLBsMsB"
      }
    },
    {
      "cell_type": "markdown",
      "source": [
        "``` c\n",
        "#include <iostream>\n",
        "#include <fstream>\n",
        "#include <vector>\n",
        "#include <string>\n",
        "#include <cmath>\n",
        "#include <algorithm>\n",
        "using namespace std;\n",
        "\n",
        "\n",
        "bool CompararPorGrau(const pair<int, int>& a, const pair<int, int>& b) {\n",
        "    return a.second < b.second;\n",
        "}\n",
        "\n",
        "// Função para ler o grafo a partir do arquivo de entrada\n",
        "vector<vector<int>> LerGrafo(const string& nomeArquivo, int& numVertices) {\n",
        "    ifstream arquivo(nomeArquivo);\n",
        "    int numArestas;\n",
        "    arquivo >> numVertices >> numArestas;\n",
        "\n",
        "    vector<vector<int>> grafo(numVertices, vector<int>(numVertices, 0));\n",
        "\n",
        "    for (int i = 0; i < numArestas; ++i) {\n",
        "        int u, v;\n",
        "        arquivo >> u >> v;\n",
        "        grafo[u - 1][v - 1] = 1;\n",
        "        grafo[v - 1][u - 1] = 1;  // O grafo é não direcionado\n",
        "    }\n",
        "\n",
        "    arquivo.close();\n",
        "\n",
        "    return grafo;\n",
        "}\n",
        "\n",
        "vector<int> EncontrarCliqueMaxima(vector<vector<int>>& grafo, int numVertices) {\n",
        "    vector<int> cliqueMaxima;\n",
        "    vector<pair<int, int>> graus;  // Armazena pares (nó, grau)\n",
        "\n",
        "    // Calcular grau de cada nó\n",
        "    for (int i = 0; i < numVertices; ++i) {\n",
        "        int grau = 0;\n",
        "        for (int j = 0; j < numVertices; ++j) {\n",
        "            grau += grafo[i][j];\n",
        "        }\n",
        "        graus.push_back({i, grau});\n",
        "    }\n",
        "\n",
        "    // Ordenar nós por grau em ordem decrescente\n",
        "    sort(graus.begin(), graus.end(), CompararPorGrau);\n",
        "\n",
        "    while (!graus.empty()) {\n",
        "        int v = graus.back().first;\n",
        "        graus.pop_back();\n",
        "\n",
        "        bool podeAdicionar = true;\n",
        "\n",
        "        for (int u : cliqueMaxima) {\n",
        "            if (grafo[u][v] == 0) {\n",
        "                podeAdicionar = false;\n",
        "                break;\n",
        "            }\n",
        "        }\n",
        "\n",
        "        if (podeAdicionar) {\n",
        "            cliqueMaxima.push_back(v);\n",
        "            vector<pair<int, int>> novosGraus;\n",
        "\n",
        "            // Atualizar graus removendo nós não adjacentes a v\n",
        "            for (auto& par : graus) {\n",
        "                int u = par.first;\n",
        "\n",
        "                if (grafo[u][v] == 1) {\n",
        "                    novosGraus.push_back(par);\n",
        "                }\n",
        "            }\n",
        "\n",
        "            graus = novosGraus;\n",
        "        }\n",
        "    }\n",
        "\n",
        "    return cliqueMaxima;\n",
        "}\n",
        "\n",
        "\n",
        "int main() {\n",
        "    int numVertices;\n",
        "    vector<vector<int>> grafo;\n",
        "\n",
        "    grafo = LerGrafo(\"grafo.txt\", numVertices);\n",
        "    vector<int> cliqueMaximo = EncontrarCliqueMaxima(grafo, numVertices);\n",
        "    sort(cliqueMaximo.begin(),cliqueMaximo.end(), [](auto& i, auto& j){return i < j;});\n",
        "\n",
        "    cout << \"Clique máxima encontrada: [\";\n",
        "    for (size_t i = 0; i < cliqueMaximo.size(); ++i) {\n",
        "        cout << cliqueMaximo[i] + 1;\n",
        "        if (i < cliqueMaximo.size() - 1) {\n",
        "            cout << \", \";\n",
        "        }\n",
        "    }\n",
        "    cout << \"]\" << endl;\n",
        "\n",
        "    return 0;\n",
        "}\n",
        "```"
      ],
      "metadata": {
        "id": "51Ot3Q7psjxU"
      }
    },
    {
      "cell_type": "markdown",
      "source": [
        "\n",
        "- **Função CompararPorGrau**: Essa função é usada para comparar dois pares (nó, grau) durante a ordenação. Ela retorna true se o grau do primeiro par é menor que o grau do segundo par.\n",
        "\n",
        "- **Função EncontrarCliqueMaxima**: Essa função recebe a matriz de adjacência do grafo e o número de vértices como parâmetros.\n",
        "Ela utiliza uma abordagem gulosa para encontrar a clique máxima:\n",
        "Calcula o grau de cada nó e os armazena em um vetor de pares (nó, grau).\n",
        "Ordena esse vetor em ordem decrescente de grau.\n",
        "Itera sobre os nós ordenados e adiciona um nó à clique máxima se ele for adjacente a todos os nós já presentes na clique.\n",
        "Atualiza a lista de nós ordenados removendo aqueles que não são adjacentes ao nó adicionado.\n",
        "\n",
        "- **Função main**: Na função principal, é lido o grafo de um arquivo chamado \"grafo.txt\".\n",
        "Em seguida, chama a função EncontrarCliqueMaxima para encontrar a clique máxima.\n",
        "Ordena os elementos da clique máxima.\n",
        "Imprime a clique máxima encontrada."
      ],
      "metadata": {
        "id": "wTaWsVVDtNuV"
      }
    },
    {
      "cell_type": "markdown",
      "source": [
        "Para compilar e executar:\n",
        "\n",
        "```\n",
        "!g++ -Wall -O3 -g src/clique_heuristica.cpp -o clique_heuristica\n",
        "!./clique_heuristica\n",
        "\n",
        "```"
      ],
      "metadata": {
        "id": "xWQsRgRZtNej"
      }
    },
    {
      "cell_type": "markdown",
      "source": [
        "## Threads OpenMP"
      ],
      "metadata": {
        "id": "ushtAt-LwngW"
      }
    },
    {
      "cell_type": "markdown",
      "source": [
        "Esta implementação visa paralelizar o código da exaustiva anteriormente com a diretiva OpenMP, que é uma API para programação paralela em C, C++, e Fortran. As principais partes do código relacionadas à paralelização:\n",
        "\n",
        "- **Leitura Paralela do Grafo**: Na função LerGrafo, a leitura das arestas do grafo é paralelizada usando a diretiva #pragma omp parallel for.\n",
        "Cada thread é responsável por ler uma parte das arestas do arquivo, evitando conflitos de leitura.\n",
        "A região crítica (#pragma omp critical) é usada para garantir que a leitura do arquivo seja feita de forma exclusiva por uma única thread por vez, evitando problemas de concorrência na leitura.\n",
        "\n",
        "- **Verificação de Clique Paralela**: Dentro da função EncontraTodosCliquesMax, há uma verificação paralela para determinar se o conjunto de vértices atual (cliqueAtual) forma uma clique.\n",
        "A verificação é feita usando dois loops aninhados, onde cada thread é responsável por verificar uma parte do conjunto de vértices.\n",
        "A cláusula #pragma omp atomic write é usada para garantir que a variável ehClique seja escrita de forma atômica, evitando condições de corrida.\n",
        "\n",
        "- **Geração Paralela de Cliques**: A função EncontraTodosCliquesMax utiliza recursão para gerar todas as cliques máximas no grafo.\n",
        "A recursão é paralelizada, e cada chamada recursiva é realizada por uma thread diferente.\n",
        "O conjunto de candidatos é atualizado de forma paralela para melhorar a eficiência."
      ],
      "metadata": {
        "id": "RXAKH5dhvZ2B"
      }
    },
    {
      "cell_type": "markdown",
      "source": [
        "``` c\n",
        "#include <iostream>\n",
        "#include <fstream>\n",
        "#include <vector>\n",
        "#include <string>\n",
        "#include <cmath>\n",
        "#include <algorithm>\n",
        "#include <omp.h>\n",
        "using namespace std;\n",
        "\n",
        "// Função para ler o grafo a partir do arquivo de entrada\n",
        "vector<vector<int>> LerGrafo(const string& nomeArquivo, int& numVertices) {\n",
        "    ifstream arquivo(nomeArquivo);\n",
        "    int numArestas;\n",
        "    arquivo >> numVertices >> numArestas;\n",
        "\n",
        "    vector<vector<int>> grafo(numVertices, vector<int>(numVertices, 0));\n",
        "\n",
        "    #pragma omp parallel for\n",
        "    for (int i = 0; i < numArestas; ++i) {\n",
        "        int u, v;\n",
        "        #pragma omp critical\n",
        "        arquivo >> u >> v;\n",
        "        grafo[u - 1][v - 1] = 1;\n",
        "        grafo[v - 1][u - 1] = 1;  // O grafo é não direcionado\n",
        "    }\n",
        "\n",
        "    arquivo.close();\n",
        "\n",
        "    return grafo;\n",
        "}\n",
        "\n",
        "void EncontraTodosCliquesMax(vector<vector<int>>& grafo, vector<int>& candidatos, vector<int>& cliqueAtual, vector<int>& cliqueMaximo) {\n",
        "    if (candidatos.empty()) {\n",
        "        // Verifica se o clique atual é um clique (todos os vértices conectados entre si)\n",
        "        bool ehClique = true;\n",
        "        for (size_t i = 0; i < cliqueAtual.size() - 1 && ehClique; ++i) {\n",
        "            #pragma omp parallel for\n",
        "            for (size_t j = i + 1; j < cliqueAtual.size(); ++j) {\n",
        "                // Use a cláusula if para verificar ehClique dentro do loop\n",
        "                if (ehClique) {\n",
        "                    if (grafo[cliqueAtual[i]][cliqueAtual[j]] == 0) {\n",
        "                        #pragma omp atomic write\n",
        "                        ehClique = false;  // Sinaliza que ehClique deve ser definido como falso\n",
        "                    }\n",
        "                }\n",
        "            }\n",
        "        }\n",
        "        if (ehClique && cliqueAtual.size() > cliqueMaximo.size()) {\n",
        "            cliqueMaximo = cliqueAtual;\n",
        "        }\n",
        "\n",
        "        return;\n",
        "    }\n",
        "\n",
        "    // usa uma cópia dos candidatos\n",
        "    vector<int> candidatosCopia = candidatos;\n",
        "\n",
        "    while (!candidatosCopia.empty()) {\n",
        "        int v = candidatosCopia.back();\n",
        "        candidatosCopia.pop_back();\n",
        "\n",
        "        // Inicia com o vértice atual\n",
        "        cliqueAtual.push_back(v);\n",
        "\n",
        "        // atualiza a lista de candidatos\n",
        "        vector<int> novosCandidatos;\n",
        "        for (size_t i = 0; i < candidatosCopia.size(); ++i) {\n",
        "            int u = candidatosCopia[i];\n",
        "            if (grafo[v][u] == 1) {\n",
        "                novosCandidatos.push_back(u);\n",
        "            }\n",
        "        }\n",
        "\n",
        "        EncontraTodosCliquesMax(grafo, novosCandidatos, cliqueAtual, cliqueMaximo);\n",
        "        cliqueAtual.pop_back();\n",
        "    }\n",
        "}\n",
        "\n",
        "\n",
        "int main() {\n",
        "    int numVertices;\n",
        "    vector<vector<int>> grafo;\n",
        "    vector<int> candidatos;\n",
        "    vector<int> cliqueAtual;\n",
        "    vector<int> cliqueMaximo;\n",
        "\n",
        "    grafo = LerGrafo(\"grafo.txt\", numVertices);\n",
        "    numVertices = grafo.size();\n",
        "    for (int i = 0; i < numVertices; ++i) {\n",
        "        candidatos.push_back(i);\n",
        "    }\n",
        "\n",
        "    EncontraTodosCliquesMax(grafo, candidatos, cliqueAtual, cliqueMaximo);\n",
        "    sort(cliqueMaximo.begin(),cliqueMaximo.end(), [](auto& i, auto& j){return i < j;});\n",
        "\n",
        "    cout << \"Clique máxima encontrada: [\";\n",
        "    for (size_t i = 0; i < cliqueMaximo.size(); ++i) {\n",
        "        cout << cliqueMaximo[i] + 1;\n",
        "        if (i < cliqueMaximo.size() - 1) {\n",
        "            cout << \", \";\n",
        "        }\n",
        "    }\n",
        "    cout << \"]\" << endl;\n",
        "\n",
        "    return 0;\n",
        "}\n",
        "```"
      ],
      "metadata": {
        "id": "CYcwSmU2vK1i"
      }
    },
    {
      "cell_type": "markdown",
      "source": [
        "### SpeedUp"
      ],
      "metadata": {
        "id": "yVqs58y7zBKW"
      }
    },
    {
      "cell_type": "code",
      "source": [
        "speedups = []\n",
        "for (x,y) in zip(tempos_exaustiva,tempos_exaustiva_omp):\n",
        "  speedups.append(x/y)\n",
        "\n",
        "plt.plot(size_graph, speedups)\n",
        "plt.ylabel('Speedup')\n",
        "plt.xlabel('Tamanho do Grafo')\n",
        "plt.title('Speedup vs Tamanho do Grafo')\n",
        "plt.show()"
      ],
      "metadata": {
        "colab": {
          "base_uri": "https://localhost:8080/",
          "height": 472
        },
        "id": "5Lif1Xh6zhwo",
        "outputId": "f505d32c-ac2d-4c60-d019-59d33740f597"
      },
      "execution_count": 11,
      "outputs": [
        {
          "output_type": "display_data",
          "data": {
            "text/plain": [
              "<Figure size 640x480 with 1 Axes>"
            ],
            "image/png": "[encoded data removed]"
          },
          "metadata": {}
        }
      ]
    },
    {
      "cell_type": "code",
      "source": [
        "speedup = (sum(tempos_exaustiva) / len(tempos_exaustiva)) / (sum(tempos_exaustiva_omp) / len(tempos_exaustiva_omp))\n",
        "print(f\"Speedup: {speedup:.2f}\")"
      ],
      "metadata": {
        "colab": {
          "base_uri": "https://localhost:8080/"
        },
        "id": "o3NUnsIrziXt",
        "outputId": "ed7ccbc8-f400-41a9-90b9-957af6b9385a"
      },
      "execution_count": 10,
      "outputs": [
        {
          "output_type": "stream",
          "name": "stdout",
          "text": [
            "Speedup: 0.03\n"
          ]
        }
      ]
    },
    {
      "cell_type": "markdown",
      "source": [
        "De acordo com o nosso SpeedUp, as possíveis causas são overhead, na qual dependendo do tamanho do problema, o custo de criar e coordenar threads pode superar os benefícios do paralelismo, especialmente se o trabalho em cada thread for relativamente pequeno. Além disso, O uso de regiões críticas (`#pragma omp critical`) e operações atômicas (`#pragma omp atomic`) pode levar à sincronização excessiva entre as threads. Se as seções críticas forem frequentemente acionadas, as threads podem ficar à espera, resultando em overhead. Ademais, a escolha do número de threads pode impactar o desempenho. Se o número de threads for muito grande em comparação com o número de núcleos de CPU disponíveis, pode haver overhead de troca de contexto e competição por recursos."
      ],
      "metadata": {
        "id": "Wpa4vyVY43-r"
      }
    },
    {
      "cell_type": "markdown",
      "source": [
        "Para compilar e executar:\n",
        "```\n",
        "!g++ -Wall -O3 -g -fopenmp src/clique_exaustivo_omp.cpp -o clique_exaustivo_omp\n",
        "!./clique_exaustivo_omp\n",
        "```"
      ],
      "metadata": {
        "id": "ZxkcVXztyVnX"
      }
    },
    {
      "cell_type": "markdown",
      "source": [
        "## Computação Distribuída com MPI"
      ],
      "metadata": {
        "id": "FfwSgXBn5vr4"
      }
    },
    {
      "cell_type": "markdown",
      "source": [
        "O código abaixo implementa o nosso algoritmo para encontrar cliques máximas em um grafo não direcionado usando MPI (Message Passing Interface) com computação paralela. As principais partes do código relacionadas à implementação MPI:\n",
        "\n",
        "- **Inicialização MPI**: A função `MPI_Init` é chamada para inicializar o ambiente MPI. `MPI_Comm_size` e `MPI_Comm_rank` são usadas para obter o número total de processos (numProcessos) e o identificador do processo atual (processoAtual).\n",
        "\n",
        "- **Divisão de Tarefas**: O processo 0 (processoAtual == 0) é responsável por ler o grafo do arquivo, inicializar os candidatos e realizar algumas operações iniciais.\n",
        "O número total de vértices é transmitido a todos os processos usando `MPI_Bcast`.\n",
        "Os candidatos são divididos entre os processos. Cada processo recebe uma parte dos candidatos.\n",
        "\n",
        "- **Execução Paralela da Função**: Cada processo executa a função EncontraTodosCliquesMax com seus próprios candidatos locais.\n",
        "A função recebe um conjunto de candidatos locais e encontra as cliques máximas locais para esse conjunto.\n",
        "\n",
        "- **Combinação dos Resultados**: O processo 0 coleta os resultados de todos os outros processos.\n",
        "Usando `MPI_Recv`, o processo 0 recebe os resultados dos outros processos e compara-os com sua própria clique máxima.\n",
        "O processo 0 mantém a maior clique máxima global.\n",
        "\n",
        "- **Envio dos Resultados**: Os processos não-zero enviam suas cliques máximas locais para o processo 0 usando `MPI_Send`.\n",
        "\n",
        "- **Exibição do Resultado Final**: O processo 0 exibe o resultado final ordenando a clique máxima global e imprimindo-a.\n",
        "\n",
        "- **Finalização MPI**: A função `MPI_Finalize` é chamada para finalizar o ambiente MPI.\n",
        "\n",
        "\n",
        "- **Timestamp**: A função timestamp é utilizada para imprimir um timestamp indicando o momento de início e término da execução.\n",
        "\n",
        "A implementação MPI permite a execução paralela da função EncontraTodosCliquesMax em diferentes conjuntos de candidatos. A comunicação MPI é usada para transmitir informações entre os processos, incluindo o número total de vértices, os candidatos locais e os resultados das cliques máximas locais. A sincronização e a coleta de resultados são realizadas pelo processo 0."
      ],
      "metadata": {
        "id": "w6mTk4jX7Fxs"
      }
    },
    {
      "cell_type": "markdown",
      "source": [
        "``` c\n",
        "#include <iostream>\n",
        "#include <fstream>\n",
        "#include <vector>\n",
        "#include <string>\n",
        "#include <cmath>\n",
        "#include <algorithm>\n",
        "#include <mpi.h>\n",
        "#include <ctime>\n",
        "using namespace std;\n",
        "\n",
        "void timestamp();\n",
        "\n",
        "// Função para ler o grafo a partir do arquivo de entrada\n",
        "vector<vector<int>> LerGrafo(const string& nomeArquivo, int& numVertices) {\n",
        "    ifstream arquivo(nomeArquivo);\n",
        "    int numArestas;\n",
        "    arquivo >> numVertices >> numArestas;\n",
        "\n",
        "    vector<vector<int>> grafo(numVertices, vector<int>(numVertices, 0));\n",
        "\n",
        "    for (int i = 0; i < numArestas; ++i) {\n",
        "        int u, v;\n",
        "        arquivo >> u >> v;\n",
        "        grafo[u - 1][v - 1] = 1;\n",
        "        grafo[v - 1][u - 1] = 1;  // O grafo é não direcionado\n",
        "    }\n",
        "\n",
        "    arquivo.close();\n",
        "\n",
        "    return grafo;\n",
        "}\n",
        "\n",
        "void EncontraTodosCliquesMax(vector<vector<int>>& grafo, vector<int>& candidatos, vector<int>& cliqueAtual, vector<int>& cliqueMaximo) {\n",
        "    if (candidatos.empty()) {\n",
        "        // Verifica se o clique atual é um clique (todos os vértices conectados entre si)\n",
        "        bool ehClique = true;\n",
        "        for (size_t i = 0; i < cliqueAtual.size() - 1 && ehClique; ++i) {\n",
        "            for (size_t j = i + 1; j < cliqueAtual.size() && ehClique; ++j) {\n",
        "                if (grafo[cliqueAtual[i]][cliqueAtual[j]] == 0) {\n",
        "                    ehClique = false;\n",
        "                }\n",
        "            }\n",
        "        }\n",
        "\n",
        "        if (ehClique && cliqueAtual.size() > cliqueMaximo.size()) {\n",
        "            cliqueMaximo = cliqueAtual;\n",
        "        }\n",
        "\n",
        "        return;\n",
        "    }\n",
        "\n",
        "    // usa uma cópia dos candidatos\n",
        "    vector<int> candidatosCopia = candidatos;\n",
        "\n",
        "    while (!candidatosCopia.empty()) {\n",
        "        int v = candidatosCopia.back();\n",
        "        candidatosCopia.pop_back();\n",
        "\n",
        "        // Inicia com o vértice atual\n",
        "        cliqueAtual.push_back(v);\n",
        "\n",
        "        // atualiza a lista de candidatos\n",
        "        vector<int> novosCandidatos;\n",
        "        for (size_t i = 0; i < candidatosCopia.size(); ++i) {\n",
        "            int u = candidatosCopia[i];\n",
        "            if (grafo[v][u] == 1) {\n",
        "                novosCandidatos.push_back(u);\n",
        "            }\n",
        "        }\n",
        "\n",
        "        EncontraTodosCliquesMax(grafo, novosCandidatos, cliqueAtual, cliqueMaximo);\n",
        "        cliqueAtual.pop_back();\n",
        "    }\n",
        "}\n",
        "\n",
        "\n",
        "int main(int argc, char** argv) {\n",
        "    timestamp();\n",
        "    \n",
        "    MPI_Init(&argc, &argv);\n",
        "\n",
        "    int numProcessos, processoAtual;\n",
        "    MPI_Comm_size(MPI_COMM_WORLD, &numProcessos);\n",
        "    MPI_Comm_rank(MPI_COMM_WORLD, &processoAtual);\n",
        "\n",
        "    int numVertices;\n",
        "    vector<vector<int>> grafo;\n",
        "    vector<int> candidatos;\n",
        "    vector<int> cliqueAtual;\n",
        "    vector<int> cliqueMaximo;\n",
        "\n",
        "    if (processoAtual == 0) {\n",
        "        grafo = LerGrafo(\"amostra_grafos/grafo_120.txt\", numVertices);\n",
        "        numVertices = grafo.size();\n",
        "        for (int i = 0; i < numVertices; ++i) {\n",
        "            candidatos.push_back(i);\n",
        "        }\n",
        "    }\n",
        "\n",
        "    // Broadcast do número de vértices para todos os processos\n",
        "    MPI_Bcast(&numVertices, 1, MPI_INT, 0, MPI_COMM_WORLD);\n",
        "\n",
        "    // Divide os candidatos entre os processos\n",
        "    int tamanhoBloco = candidatos.size() / numProcessos;\n",
        "    int inicio = processoAtual * tamanhoBloco;\n",
        "    int fim = (processoAtual == numProcessos - 1) ? candidatos.size() : inicio + tamanhoBloco;\n",
        "    vector<int> candidatosLocais(candidatos.begin() + inicio, candidatos.begin() + fim);\n",
        "\n",
        "    // Broadcast dos candidatos locais para todos os processos\n",
        "    MPI_Bcast(candidatosLocais.data(), candidatosLocais.size(), MPI_INT, 0, MPI_COMM_WORLD);\n",
        "\n",
        "    // Cada processo executa a função EncontraTodosCliquesMax com seus candidatos locais\n",
        "    EncontraTodosCliquesMax(grafo, candidatosLocais, cliqueAtual, cliqueMaximo);\n",
        "\n",
        "    // Combinar os resultados - processo 0 recebe os resultados de outros processos\n",
        "    if (processoAtual == 0) {\n",
        "        for (int i = 1; i < numProcessos; ++i) {\n",
        "            vector<int> cliqueMaximoRemoto;\n",
        "            MPI_Recv(cliqueMaximoRemoto.data(), cliqueMaximoRemoto.size(), MPI_INT, i, 0, MPI_COMM_WORLD, MPI_STATUS_IGNORE);\n",
        "\n",
        "            if (cliqueMaximoRemoto.size() > cliqueMaximo.size()) {\n",
        "                cliqueMaximo = cliqueMaximoRemoto;\n",
        "            }\n",
        "        }\n",
        "    } else {\n",
        "        // Outros processos enviam seus resultados para o processo 0\n",
        "        MPI_Send(cliqueMaximo.data(), cliqueMaximo.size(), MPI_INT, 0, 0, MPI_COMM_WORLD);\n",
        "    }\n",
        "\n",
        "    // Processo 0 exibe o resultado final\n",
        "    if (processoAtual == 0) {\n",
        "        sort(cliqueMaximo.begin(), cliqueMaximo.end(), [](auto& i, auto& j) { return i < j; });\n",
        "\n",
        "        cout << \"Clique máxima encontrada: [\";\n",
        "        for (size_t i = 0; i < cliqueMaximo.size(); ++i) {\n",
        "            cout << cliqueMaximo[i] + 1;\n",
        "            if (i < cliqueMaximo.size() - 1) {\n",
        "                cout << \", \";\n",
        "            }\n",
        "        }\n",
        "        cout << \"]\" << endl;\n",
        "    }\n",
        "\n",
        "    MPI_Finalize();\n",
        "\n",
        "    timestamp();\n",
        "\n",
        "    return 0;\n",
        "}\n",
        "\n",
        "void timestamp() {\n",
        "   char time_buffer[40];\n",
        "   time_t now = time(nullptr);\n",
        "   tm *tm = localtime(&now);\n",
        "   strftime(time_buffer, sizeof(time_buffer), \"%I:%M:%S\", tm);\n",
        "   std::cout << time_buffer << std::endl;\n",
        "}\n",
        "```"
      ],
      "metadata": {
        "id": "NGmoW5na57qO"
      }
    },
    {
      "cell_type": "markdown",
      "source": [
        "### SpeedUp"
      ],
      "metadata": {
        "id": "fMbH6_vT8Tyj"
      }
    },
    {
      "cell_type": "code",
      "source": [
        "speedups = []\n",
        "for (x,y) in zip(tempos_exaustiva, tempos_exaustiva_mpi):\n",
        "  try:\n",
        "    speedups.append(x/y)\n",
        "  except:\n",
        "    speedups.append(None)\n",
        "\n",
        "plt.plot(size_graph, speedups)\n",
        "plt.ylabel('Speedup')\n",
        "plt.xlabel('Tamanho do Grafo')\n",
        "plt.title('Speedup vs Tamanho do Grafo')\n",
        "plt.show()"
      ],
      "metadata": {
        "colab": {
          "base_uri": "https://localhost:8080/",
          "height": 472
        },
        "id": "Oac-OLVK8q07",
        "outputId": "eaea5bb0-874c-4a36-a406-f26f9af10bde"
      },
      "execution_count": 17,
      "outputs": [
        {
          "output_type": "display_data",
          "data": {
            "text/plain": [
              "<Figure size 640x480 with 1 Axes>"
            ],
            "image/png": "[encoded data removed]"
          },
          "metadata": {}
        }
      ]
    },
    {
      "cell_type": "code",
      "source": [
        "speedup = (sum(tempos_exaustiva) / len(tempos_exaustiva)) / (sum(tempos_exaustiva_mpi) / len(tempos_exaustiva_mpi))\n",
        "print(f\"Speedup: {speedup:.2f}\")"
      ],
      "metadata": {
        "colab": {
          "base_uri": "https://localhost:8080/"
        },
        "id": "WwI7HbLM8hOU",
        "outputId": "ec8cc5d5-a379-4e56-c423-4037f5c98796"
      },
      "execution_count": 18,
      "outputs": [
        {
          "output_type": "stream",
          "name": "stdout",
          "text": [
            "Speedup: 0.05\n"
          ]
        }
      ]
    },
    {
      "cell_type": "markdown",
      "source": [
        "Apesar de um melhor desempenho de tempo em relação ao OpenMP, o MPI ainda não forneceu melhorias adequadas devido ao seu speedup. Com isso, é importante ressaltar que os principais suspeitos são:\n",
        "\n",
        "- **Comunicação Excessiva Em MPI**: a comunicação entre os processos é realizada por meio de mensagens. Se houver muita comunicação entre os processos, o overhead associado pode superar os benefícios do paralelismo.\n",
        "\n",
        "- **Granularidade Inadequada**: A granularidade do paralelismo refere-se ao tamanho do trabalho realizado por cada processo. Se o trabalho em cada processo for muito pequeno, o overhead de comunicação pode dominar o tempo de execução.\n",
        "\n",
        "- **Sobrecarga de Inicialização e Finalização MPI**: As operações de inicialização e finalização MPI (MPI_Init e MPI_Finalize) podem introduzir sobrecarga, especialmente em casos onde o trabalho total é pequeno.\n",
        "\n",
        "- **Desbalanceamento de Carga**: Se a carga de trabalho não estiver distribuída uniformemente entre os processos, alguns processos podem ficar ociosos enquanto outros ainda estão computando. Isso pode ocorrer se a divisão de candidatos não for equitativa.\n",
        "\n",
        "- **Escalabilidade Limitada do Problema**: Se o tamanho do problema não for grande o suficiente para justificar o paralelismo, os custos associados à inicialização e comunicação MPI podem superar os benefícios. Isso é especialmente verdadeiro para algoritmos onde a paralelização não oferece vantagens claras em relação ao tamanho do problema.\n",
        "\n",
        "- **Complexidade do Algoritmo**: A complexidade do algoritmo em si pode limitar a eficácia da paralelização. Algoritmos que têm dependências fortes entre as iterações ou etapas podem não se beneficiar totalmente do paralelismo.\n",
        "\n",
        "- **Configuração do Ambiente MPI**: A configuração do ambiente MPI, incluindo o número de processos e a máquina onde o programa está sendo executado, pode afetar o desempenho. Com isso, é importante ressaltar que a implementação com MPI foi executada no cluster do laboratório de supercomputação do Insper e o arquivo de configuração do SLURM foi o seguinte:\n",
        "![image.png](data:image/png;base64,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)"
      ],
      "metadata": {
        "id": "uYWVZs6h9g_m"
      }
    },
    {
      "cell_type": "markdown",
      "source": [
        "Para compilar e executar no seu cluster com as configurações corretas do SLURM:\n",
        "```\n",
        "mpic++ src/clique_exaustivo_mpi.cpp -o clique_exaustivo_mpi\n",
        "# crie clique_exaustivo_mpi.slurm\n",
        "sbatch clique_exaustivo_mpi.slurm\n",
        "# visualize o output\n",
        "```"
      ],
      "metadata": {
        "id": "174dVt60AhvM"
      }
    },
    {
      "cell_type": "markdown",
      "source": [
        "## Conclusão\n",
        "\n",
        "Para otimizar a implementação paralela com OpenMP, é importante ajustar a granularidade do paralelismo, minimizar a sincronização e experimentar diferentes configurações de número de threads. Além disso, em certos casos, pode ser benéfico aplicar paralelismo apenas em partes críticas do código. A análise do perfil de desempenho, usando ferramentas como o OpenMP profiler, pode ajudar a identificar gargalos específicos e orientar otimizações.\n",
        "\n",
        "Ademais, na implementação de MPI é importante verificar se as operações de comunicação, como `MPI_Bcast`, `MPI_Send` e `MPI_Recv`, são necessárias e otimizadas. Além disso, experimentar ajustar a granularidade para encontrar um equilíbrio que beneficie o paralelismo. Outrossim, verificar se o tempo de inicialização e finalização for significativo em comparação com o tempo de computação, pois isso pode afetar o desempenho. Por fim, verificar as configurações do SLURM no seu cluster é de fundamental importância."
      ],
      "metadata": {
        "id": "X67t0BPl4cGr"
      }
    }
  ]
}