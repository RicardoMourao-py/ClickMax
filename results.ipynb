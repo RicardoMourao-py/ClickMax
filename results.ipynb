{
  "nbformat": 4,
  "nbformat_minor": 0,
  "metadata": {
    "colab": {
      "provenance": []
    },
    "kernelspec": {
      "name": "python3",
      "display_name": "Python 3"
    },
    "language_info": {
      "name": "python"
    }
  },
  "cells": [
    {
      "cell_type": "markdown",
      "source": [
        "# Clique Máximo em um Grafo\n",
        "\n",
        "- Aluno: Ricardo Mourão Rodrigues Filho"
      ],
      "metadata": {
        "id": "mc9SexVZslpm"
      }
    },
    {
      "cell_type": "markdown",
      "source": [
        "## Configurações"
      ],
      "metadata": {
        "id": "VvE30Sarsvih"
      }
    },
    {
      "cell_type": "code",
      "execution_count": 1,
      "metadata": {
        "colab": {
          "base_uri": "https://localhost:8080/"
        },
        "id": "jfWYjfNZsdIK",
        "outputId": "3653db79-1f37-4d63-9d3c-6e31611ff13d"
      },
      "outputs": [
        {
          "output_type": "stream",
          "name": "stdout",
          "text": [
            "Cloning into 'CliqueMax'...\n",
            "remote: Enumerating objects: 32, done.\u001b[K\n",
            "remote: Counting objects: 100% (32/32), done.\u001b[K\n",
            "remote: Compressing objects: 100% (28/28), done.\u001b[K\n",
            "remote: Total 32 (delta 13), reused 9 (delta 2), pack-reused 0\u001b[K\n",
            "Receiving objects: 100% (32/32), 8.45 KiB | 8.45 MiB/s, done.\n",
            "Resolving deltas: 100% (13/13), done.\n"
          ]
        }
      ],
      "source": [
        "!git clone https://github.com/RicardoMourao-py/CliqueMax"
      ]
    },
    {
      "cell_type": "code",
      "source": [
        "%cd \"CliqueMax\""
      ],
      "metadata": {
        "colab": {
          "base_uri": "https://localhost:8080/"
        },
        "id": "kPGxVRvWtgL_",
        "outputId": "e879358b-f8a9-4a2e-fb04-190f6d0c48d1"
      },
      "execution_count": 2,
      "outputs": [
        {
          "output_type": "stream",
          "name": "stdout",
          "text": [
            "/content/CliqueMax\n"
          ]
        }
      ]
    },
    {
      "cell_type": "markdown",
      "source": [
        "## Gera Grafo"
      ],
      "metadata": {
        "id": "JbE_tUDFv4cI"
      }
    },
    {
      "cell_type": "code",
      "source": [
        "!python3 gera_grafo.py"
      ],
      "metadata": {
        "colab": {
          "base_uri": "https://localhost:8080/"
        },
        "id": "8swNaMxXs-PG",
        "outputId": "df7c0512-2dab-4c73-c8f3-c263a98939b5"
      },
      "execution_count": 3,
      "outputs": [
        {
          "output_type": "stream",
          "name": "stdout",
          "text": [
            "Grafo densamente conectado gerado e salvo em 'grafo.txt'.\n"
          ]
        }
      ]
    },
    {
      "cell_type": "markdown",
      "source": [
        "## Abordagem Exaustiva"
      ],
      "metadata": {
        "id": "Vkw1dHPXwCSp"
      }
    },
    {
      "cell_type": "code",
      "source": [
        "!g++ -Wall -O3 -g acha_clique.cpp -o acha_clique"
      ],
      "metadata": {
        "id": "BJD7fGwztZgr"
      },
      "execution_count": 4,
      "outputs": []
    },
    {
      "cell_type": "code",
      "source": [
        "!./acha_clique"
      ],
      "metadata": {
        "colab": {
          "base_uri": "https://localhost:8080/"
        },
        "id": "4FfgwESRtv-Q",
        "outputId": "cdbfac36-bc4e-47f0-b841-203ef9ff494a"
      },
      "execution_count": 5,
      "outputs": [
        {
          "output_type": "stream",
          "name": "stdout",
          "text": [
            "Abordagem-Exaustiva com Clique de Tamanho: 9 Maximal Clique: 50 49 48 46 42 41 31 26 13 \n"
          ]
        }
      ]
    },
    {
      "cell_type": "markdown",
      "source": [
        " ## Heurística que ordena os nós em função do grau de adjacência"
      ],
      "metadata": {
        "id": "vd21omFuwFHu"
      }
    },
    {
      "cell_type": "code",
      "source": [
        "!g++ -Wall -O3 -g clique_heuristica.cpp -o clique_heuristica"
      ],
      "metadata": {
        "id": "BHz8Axl8tzby"
      },
      "execution_count": 6,
      "outputs": []
    },
    {
      "cell_type": "code",
      "source": [
        "!./clique_heuristica"
      ],
      "metadata": {
        "colab": {
          "base_uri": "https://localhost:8080/"
        },
        "id": "vt69iS1Kt-H0",
        "outputId": "bd4c435f-a3cc-4473-d8ef-70badec095b4"
      },
      "execution_count": 7,
      "outputs": [
        {
          "output_type": "stream",
          "name": "stdout",
          "text": [
            "Abordagem Heuristica com Clique de Tamanho: 9 Maximal Clique: 17 18 20 23 27 28 38 40 43 \n"
          ]
        }
      ]
    },
    {
      "cell_type": "markdown",
      "source": [
        "## Pseudo-Código que otimiza a tarefa exaustiva"
      ],
      "metadata": {
        "id": "bCxP7MYZwWjZ"
      }
    },
    {
      "cell_type": "markdown",
      "source": [
        "Certamente, podemos adicionar uma heurística para otimizar o algoritmo exaustivo. Além disso, podemos implementar uma poda para evitar o cálculo de ramos que sabemos antecipadamente que não levarão a uma solução melhor. Uma abordagem comum é usar a ideia de limites superiores (upper bounds) e limites inferiores (lower bounds).\n",
        "\n",
        "Aqui está um pseudocódigo com uma heurística de ordenação por grau e uma poda usando limites superiores e inferiores:"
      ],
      "metadata": {
        "id": "74GjzQw5w6WI"
      }
    },
    {
      "cell_type": "markdown",
      "source": [
        "```\n",
        "Função EncontrarCliqueMaxima(grafo, numVertices)\n",
        "    cliqueMaxima = ListaVazia()\n",
        "    candidatos = ListaDeNós()  # Inicialmente, todos os nós são candidatos\n",
        "\n",
        "    Para cada i de 0 até numVertices - 1 Faça\n",
        "        Adicione (i, Grau(i)) à lista de candidatos\n",
        "\n",
        "    Ordenar candidatos por Grau em ordem decrescente\n",
        "\n",
        "    Enquanto candidatos não estiver vazia Faça\n",
        "        (v, grau) = Último elemento de candidatos\n",
        "        Remova o último elemento de candidatos\n",
        "\n",
        "        Se (cliqueMaxima.tamanho + grau) <= cliqueMaximaAtual.tamanho Então\n",
        "            # Podar se a soma do tamanho da clique atual e do grau de v for menor ou igual ao tamanho da clique máxima conhecida\n",
        "            Continue\n",
        "        Fim Se\n",
        "\n",
        "        podeAdicionar = Verdadeiro\n",
        "\n",
        "        Para cada u em cliqueMaxima Faça\n",
        "            Se grafo[u][v] == 0 Então\n",
        "                podeAdicionar = Falso\n",
        "                Pare o loop\n",
        "            Fim Se\n",
        "        Fim Para\n",
        "\n",
        "        Se podeAdicionar for Verdadeiro Então\n",
        "            Adicione v a cliqueMaxima\n",
        "            novosCandidatos = ListaDeNós()\n",
        "\n",
        "            Para cada u, grauU em candidatos Faça\n",
        "                Se grauU >= grau e grafo[u][v] == 1 Então\n",
        "                    Adicione (u, grauU) a novosCandidatos\n",
        "                Fim Se\n",
        "            Fim Para\n",
        "\n",
        "            candidatos = novosCandidatos\n",
        "        Fim Se\n",
        "    Fim Enquanto\n",
        "\n",
        "    Retorne cliqueMaxima\n",
        "Fim Função\n",
        "```"
      ],
      "metadata": {
        "id": "R8fcCgfNuU1Z"
      }
    },
    {
      "cell_type": "markdown",
      "source": [
        "Neste pseudocódigo, a poda é feita comparando a soma do tamanho da clique atual (cliqueMaxima.tamanho) com o grau do nó candidato (grau). Se essa soma for menor ou igual ao tamanho da clique máxima conhecida (cliqueMaximaAtual.tamanho), sabemos que adicionar o nó candidato não levará a uma clique maior, então podemos pular essa iteração."
      ],
      "metadata": {
        "id": "nMqbqKPVxAEH"
      }
    },
    {
      "cell_type": "markdown",
      "source": [
        "## Threads OpenMP"
      ],
      "metadata": {
        "id": "ushtAt-LwngW"
      }
    },
    {
      "cell_type": "code",
      "source": [
        "!g++ -Wall -O3 -g -fopenmp clique_threads.cpp -o clique_threads"
      ],
      "metadata": {
        "id": "emZOairEuBDl"
      },
      "execution_count": 8,
      "outputs": []
    },
    {
      "cell_type": "code",
      "source": [
        "!./clique_threads"
      ],
      "metadata": {
        "colab": {
          "base_uri": "https://localhost:8080/"
        },
        "id": "squu2_tguhFa",
        "outputId": "4f8346c0-2cf2-4b4d-ac74-7158fa7ec1a0"
      },
      "execution_count": 9,
      "outputs": [
        {
          "output_type": "stream",
          "name": "stdout",
          "text": [
            "Abordagem Theads com Clique de Tamanho: 8 Maximal Clique: 2 14 17 18 37 41 44 45 \n"
          ]
        }
      ]
    },
    {
      "cell_type": "markdown",
      "source": [
        "## Verifica Clique Máximo Encontrado"
      ],
      "metadata": {
        "id": "G1C3fhFrwr9p"
      }
    },
    {
      "cell_type": "code",
      "source": [
        "!python3 clique_correto.py"
      ],
      "metadata": {
        "colab": {
          "base_uri": "https://localhost:8080/"
        },
        "id": "IQjbDOhIujYp",
        "outputId": "38642493-b730-4c49-e128-3e403f15a3ad"
      },
      "execution_count": 10,
      "outputs": [
        {
          "output_type": "stream",
          "name": "stdout",
          "text": [
            "Clique máxima encontrada: [2, 6, 8, 13, 14, 16, 23, 34, 44, 45, 47]\n"
          ]
        }
      ]
    },
    {
      "cell_type": "markdown",
      "source": [
        "## Iterações"
      ],
      "metadata": {
        "id": "FsqHj6hsxJTK"
      }
    },
    {
      "cell_type": "markdown",
      "source": [
        "- Implementar Gráficos das soluções OpenMP\n",
        "- Diferenciar SpeedUps\n",
        "- Comentários código e explicações dos seus usos"
      ],
      "metadata": {
        "id": "mA0zQHjtxLwf"
      }
    },
    {
      "cell_type": "code",
      "source": [],
      "metadata": {
        "id": "zzAXsSJGvytS"
      },
      "execution_count": null,
      "outputs": []
    }
  ]
}