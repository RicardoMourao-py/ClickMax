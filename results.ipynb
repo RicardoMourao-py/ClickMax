{
  "nbformat": 4,
  "nbformat_minor": 0,
  "metadata": {
    "colab": {
      "provenance": [],
      "authorship_tag": "ABX9TyMWXOgkB98+HcGbcgQs5/ZY",
      "include_colab_link": true
    },
    "kernelspec": {
      "name": "python3",
      "display_name": "Python 3"
    },
    "language_info": {
      "name": "python"
    }
  },
  "cells": [
    {
      "cell_type": "markdown",
      "metadata": {
        "id": "view-in-github",
        "colab_type": "text"
      },
      "source": [
        "<a href=\"https://colab.research.google.com/github/RicardoMourao-py/CliqueMax/blob/main/results.ipynb\" target=\"_parent\"><img src=\"https://colab.research.google.com/assets/colab-badge.svg\" alt=\"Open In Colab\"/></a>"
      ]
    },
    {
      "cell_type": "markdown",
      "source": [
        "# Clique Máximo em um Grafo\n",
        "\n",
        "- Aluno: Ricardo Mourão Rodrigues Filho"
      ],
      "metadata": {
        "id": "mc9SexVZslpm"
      }
    },
    {
      "cell_type": "markdown",
      "source": [
        "## Setup"
      ],
      "metadata": {
        "id": "VvE30Sarsvih"
      }
    },
    {
      "cell_type": "code",
      "execution_count": null,
      "metadata": {
        "colab": {
          "base_uri": "https://localhost:8080/"
        },
        "id": "jfWYjfNZsdIK",
        "outputId": "2b74193e-40fb-4a09-e95d-9393ccf02bd5"
      },
      "outputs": [
        {
          "output_type": "stream",
          "name": "stdout",
          "text": [
            "Requirement already satisfied: networkx in /usr/local/lib/python3.10/dist-packages (from -r requirements.txt (line 1)) (3.2.1)\n"
          ]
        }
      ],
      "source": [
        "!git clone https://github.com/RicardoMourao-py/CliqueMax\n",
        "%cd \"CliqueMax\"\n",
        "!pip install -r requirements.txt"
      ]
    },
    {
      "cell_type": "markdown",
      "source": [
        "## Bibliotecas"
      ],
      "metadata": {
        "id": "ErcKXR4nqupc"
      }
    },
    {
      "cell_type": "code",
      "source": [
        "import os\n",
        "import subprocess\n",
        "import time\n",
        "from datetime import datetime\n",
        "import matplotlib.pyplot as plt"
      ],
      "metadata": {
        "id": "kPGxVRvWtgL_"
      },
      "execution_count": 25,
      "outputs": []
    },
    {
      "cell_type": "markdown",
      "source": [
        "## Permissão para Compilados"
      ],
      "metadata": {
        "id": "6S1KH4e0ga2Q"
      }
    },
    {
      "cell_type": "code",
      "source": [
        "!chmod +x compilacoes/heuristica/clique_heuristica_20\n",
        "!chmod +x compilacoes/heuristica/clique_heuristica_40\n",
        "!chmod +x compilacoes/heuristica/clique_heuristica_60\n",
        "!chmod +x compilacoes/heuristica/clique_heuristica_80\n",
        "!chmod +x compilacoes/heuristica/clique_heuristica_100\n",
        "!chmod +x compilacoes/heuristica/clique_heuristica_120"
      ],
      "metadata": {
        "id": "eo_IRey9mNXK"
      },
      "execution_count": null,
      "outputs": []
    },
    {
      "cell_type": "code",
      "source": [
        "!chmod +x compilacoes/exaustiva/clique_exaustivo_20\n",
        "!chmod +x compilacoes/exaustiva/clique_exaustivo_40\n",
        "!chmod +x compilacoes/exaustiva/clique_exaustivo_60\n",
        "!chmod +x compilacoes/exaustiva/clique_exaustivo_80\n",
        "!chmod +x compilacoes/exaustiva/clique_exaustivo_100\n",
        "!chmod +x compilacoes/exaustiva/clique_exaustivo_120"
      ],
      "metadata": {
        "id": "FMBiNdQ1iuHI"
      },
      "execution_count": null,
      "outputs": []
    },
    {
      "cell_type": "code",
      "source": [
        "!chmod +x compilacoes/exaustiva-omp/clique_exaustivo_omp_20\n",
        "!chmod +x compilacoes/exaustiva-omp/clique_exaustivo_omp_40\n",
        "!chmod +x compilacoes/exaustiva-omp/clique_exaustivo_omp_60\n",
        "!chmod +x compilacoes/exaustiva-omp/clique_exaustivo_omp_80\n",
        "!chmod +x compilacoes/exaustiva-omp/clique_exaustivo_omp_100\n",
        "!chmod +x compilacoes/exaustiva-omp/clique_exaustivo_omp_120"
      ],
      "metadata": {
        "id": "6Z6GOAIhtRWn"
      },
      "execution_count": null,
      "outputs": []
    },
    {
      "cell_type": "markdown",
      "source": [
        "## Tempo de Execução vs Tamnaho Grafo"
      ],
      "metadata": {
        "id": "ylP7FgCagp8q"
      }
    },
    {
      "cell_type": "code",
      "source": [
        "# arquivos executaveis\n",
        "compilados_exaustiva = sorted(map(lambda x: os.path.join(\"compilacoes/exaustiva/\", x), os.listdir(\"compilacoes/exaustiva/\")), key=lambda x: int(x.split(\"_\")[-1]))\n",
        "compilados_heurisitca = sorted(map(lambda x: os.path.join(\"compilacoes/heuristica/\", x), os.listdir(\"compilacoes/heuristica/\")), key=lambda x: int(x.split(\"_\")[-1]))\n",
        "compilados_exaustiva_omp = sorted(map(lambda x: os.path.join(\"compilacoes/exaustiva-omp/\", x), os.listdir(\"compilacoes/exaustiva-omp/\")), key=lambda x: int(x.split(\"_\")[-1]))\n",
        "output_exaustiva_mpi = sorted(map(lambda x: os.path.join(\"out_mpi/\", x), os.listdir(\"out_mpi/\")), key=lambda x: int(x.split(\".out\")[0].split(\"_\")[-1]))\n",
        "\n",
        "tempos_exaustiva = []\n",
        "tempos_heuristica = []\n",
        "tempos_exaustiva_omp  = []\n",
        "tempos_exaustiva_mpi = []\n",
        "\n",
        "for i in output_exaustiva_mpi[:-1]:\n",
        "  with open(i, 'r') as file:\n",
        "      content = file.read()\n",
        "      out = content.split('\\n')\n",
        "      time1 = datetime.strptime(out[0], '%H:%M:%S')\n",
        "      time2 = datetime.strptime(out[2], '%H:%M:%S')\n",
        "      delta = (time2 - time1).total_seconds()\n",
        "      tempos_exaustiva_mpi.append(delta)\n",
        "\n",
        "size_graph = list(range(20,120,20))\n",
        "\n",
        "for i in range(len(size_graph)):\n",
        "    comando = [compilados_exaustiva[i]]\n",
        "    inicio = time.time()\n",
        "    subprocess.run(comando, text=True, capture_output=True)\n",
        "    fim = time.time()\n",
        "    tempo_execucao_exaustiva = fim - inicio\n",
        "    tempos_exaustiva.append(tempo_execucao_exaustiva)\n",
        "\n",
        "    comando = [compilados_heurisitca[i]]\n",
        "    inicio = time.time()\n",
        "    subprocess.run(comando, text=True, capture_output=True)\n",
        "    fim = time.time()\n",
        "    tempo_execucao_heuristica = fim - inicio\n",
        "    tempos_heuristica.append(tempo_execucao_heuristica)\n",
        "\n",
        "    comando = [compilados_exaustiva_omp[i]]\n",
        "    inicio = time.time()\n",
        "    subprocess.run(comando, text=True, capture_output=True)\n",
        "    fim = time.time()\n",
        "    tempo_execucao_exaustiva_omp = fim - inicio\n",
        "    tempos_exaustiva_omp.append(tempo_execucao_exaustiva_omp)\n",
        "\n",
        "\n",
        "# Crie o gráfico\n",
        "plt.plot(size_graph, tempos_exaustiva, label=\"Exaustiva\", marker='o')\n",
        "plt.plot(size_graph, tempos_heuristica, label=\"Heuristica\", marker='o')\n",
        "plt.plot(size_graph, tempos_exaustiva_omp, label=\"Exaustiva OpenMP\", marker='o')\n",
        "plt.plot(size_graph, tempos_exaustiva_mpi, label=\"Exaustiva MPI\", marker='o')\n",
        "plt.xlabel(\"Tamanho do Grafo (N)\")\n",
        "plt.ylabel(\"Tempo de Execução (s)\")\n",
        "plt.legend()\n",
        "plt.title(\"Exaustiva vs Heuristica\")\n",
        "\n",
        "# Exiba o gráfico\n",
        "plt.grid(True)\n",
        "plt.show()"
      ],
      "metadata": {
        "colab": {
          "base_uri": "https://localhost:8080/",
          "height": 472
        },
        "id": "PQFbjjxDddom",
        "outputId": "03827803-b5f2-4c15-cd4d-f49bc78b1a82"
      },
      "execution_count": 37,
      "outputs": [
        {
          "output_type": "display_data",
          "data": {
            "text/plain": [
              "<Figure size 640x480 with 1 Axes>"
            ],
            "image/png": "[encoded data removed]"
          },
          "metadata": {}
        }
      ]
    },
    {
      "cell_type": "markdown",
      "source": [
        "## Executando todas Implementações"
      ],
      "metadata": {
        "id": "mOYfS0YAwfWe"
      }
    },
    {
      "cell_type": "code",
      "source": [
        "print(\"--------------------- Exaustiva -------------------\")\n",
        "!compilacoes/exaustiva/clique_exaustivo_60\n",
        "print(\"--------------------- Heuristica -------------------\")\n",
        "!compilacoes/heuristica/clique_heuristica_60\n",
        "print(\"--------------------- Exaustiva OpenMP -------------------\")\n",
        "!compilacoes/exaustiva-omp/clique_exaustivo_omp_60\n",
        "print(\"--------------------- Exaustiva MPI -------------------\")\n",
        "with open('out_mpi/slurm_60.out', 'r') as file:\n",
        "  content = file.read()\n",
        "  print(content.split('\\n')[1])"
      ],
      "metadata": {
        "colab": {
          "base_uri": "https://localhost:8080/"
        },
        "id": "OzMLLqHgwe9Z",
        "outputId": "1edb24f4-4297-40a8-d78e-6cd0b28af2e0"
      },
      "execution_count": 47,
      "outputs": [
        {
          "output_type": "stream",
          "name": "stdout",
          "text": [
            "--------------------- Exaustiva -------------------\n",
            "Clique máxima encontrada: [9, 11, 12, 13, 20, 35, 46, 51, 53, 55, 59, 60]\n",
            "--------------------- Heuristica -------------------\n",
            "Clique máxima encontrada: [9, 11, 12, 14, 18, 20, 35, 43, 51, 59, 60]\n",
            "--------------------- Exaustiva OpenMP -------------------\n",
            "Clique máxima encontrada: [9, 11, 12, 13, 20, 35, 46, 51, 53, 55, 59, 60]\n",
            "--------------------- Exaustiva MPI -------------------\n",
            "Clique máxima encontrada: [9, 11, 12, 13, 20, 35, 46, 51, 53, 55, 59, 60]\n"
          ]
        }
      ]
    },
    {
      "cell_type": "markdown",
      "source": [
        "## Gera Grafo"
      ],
      "metadata": {
        "id": "JbE_tUDFv4cI"
      }
    },
    {
      "cell_type": "code",
      "source": [
        "!python3 utils/gera_grafo.py"
      ],
      "metadata": {
        "colab": {
          "base_uri": "https://localhost:8080/"
        },
        "id": "8swNaMxXs-PG",
        "outputId": "c57136c1-c67f-4367-d7a0-c3842f5fa9b3"
      },
      "execution_count": 38,
      "outputs": [
        {
          "output_type": "stream",
          "name": "stdout",
          "text": [
            "Grafo densamente conectado gerado e salvo em 'grafo.txt'.\n"
          ]
        }
      ]
    },
    {
      "cell_type": "markdown",
      "source": [
        "## Abordagem Exaustiva"
      ],
      "metadata": {
        "id": "Vkw1dHPXwCSp"
      }
    },
    {
      "cell_type": "code",
      "source": [
        "!g++ -Wall -O3 -g src/clique_exaustivo.cpp -o clique_exaustivo"
      ],
      "metadata": {
        "id": "BJD7fGwztZgr"
      },
      "execution_count": 39,
      "outputs": []
    },
    {
      "cell_type": "code",
      "source": [
        "!./clique_exaustivo"
      ],
      "metadata": {
        "colab": {
          "base_uri": "https://localhost:8080/"
        },
        "id": "4FfgwESRtv-Q",
        "outputId": "d63627e3-71d4-440f-9dfc-c8211821edb2"
      },
      "execution_count": 40,
      "outputs": [
        {
          "output_type": "stream",
          "name": "stdout",
          "text": [
            "Clique máxima encontrada: [3, 4, 18, 20, 26, 29, 39, 44, 46, 48, 50]\n"
          ]
        }
      ]
    },
    {
      "cell_type": "markdown",
      "source": [
        " ## Abordagem Heurística"
      ],
      "metadata": {
        "id": "vd21omFuwFHu"
      }
    },
    {
      "cell_type": "code",
      "source": [
        "!g++ -Wall -O3 -g src/clique_heuristica.cpp -o clique_heuristica"
      ],
      "metadata": {
        "id": "BHz8Axl8tzby"
      },
      "execution_count": 41,
      "outputs": []
    },
    {
      "cell_type": "code",
      "source": [
        "!./clique_heuristica"
      ],
      "metadata": {
        "colab": {
          "base_uri": "https://localhost:8080/"
        },
        "id": "vt69iS1Kt-H0",
        "outputId": "075a2e26-2a3d-45f5-f5b1-773a5b790599"
      },
      "execution_count": 42,
      "outputs": [
        {
          "output_type": "stream",
          "name": "stdout",
          "text": [
            "Clique máxima encontrada: [11, 18, 26, 27, 30, 34, 37, 41, 44, 48, 49]\n"
          ]
        }
      ]
    },
    {
      "cell_type": "markdown",
      "source": [
        "## Pseudo-Código que otimiza a tarefa exaustiva"
      ],
      "metadata": {
        "id": "bCxP7MYZwWjZ"
      }
    },
    {
      "cell_type": "markdown",
      "source": [
        "Certamente, podemos adicionar uma heurística para otimizar o algoritmo exaustivo. Além disso, podemos implementar uma poda para evitar o cálculo de ramos que sabemos antecipadamente que não levarão a uma solução melhor. Uma abordagem comum é usar a ideia de limites superiores (upper bounds) e limites inferiores (lower bounds).\n",
        "\n",
        "Aqui está um pseudocódigo com uma heurística de ordenação por grau e uma poda usando limites superiores e inferiores:"
      ],
      "metadata": {
        "id": "74GjzQw5w6WI"
      }
    },
    {
      "cell_type": "markdown",
      "source": [
        "```\n",
        "Função EncontrarCliqueMaxima(grafo, numVertices)\n",
        "    cliqueMaxima = ListaVazia()\n",
        "    candidatos = ListaDeNós()  # Inicialmente, todos os nós são candidatos\n",
        "\n",
        "    Para cada i de 0 até numVertices - 1 Faça\n",
        "        Adicione (i, Grau(i)) à lista de candidatos\n",
        "\n",
        "    Ordenar candidatos por Grau em ordem decrescente\n",
        "\n",
        "    Enquanto candidatos não estiver vazia Faça\n",
        "        (v, grau) = Último elemento de candidatos\n",
        "        Remova o último elemento de candidatos\n",
        "\n",
        "        Se (cliqueMaxima.tamanho + grau) <= cliqueMaximaAtual.tamanho Então\n",
        "            # Podar se a soma do tamanho da clique atual e do grau de v for menor ou igual ao tamanho da clique máxima conhecida\n",
        "            Continue\n",
        "        Fim Se\n",
        "\n",
        "        podeAdicionar = Verdadeiro\n",
        "\n",
        "        Para cada u em cliqueMaxima Faça\n",
        "            Se grafo[u][v] == 0 Então\n",
        "                podeAdicionar = Falso\n",
        "                Pare o loop\n",
        "            Fim Se\n",
        "        Fim Para\n",
        "\n",
        "        Se podeAdicionar for Verdadeiro Então\n",
        "            Adicione v a cliqueMaxima\n",
        "            novosCandidatos = ListaDeNós()\n",
        "\n",
        "            Para cada u, grauU em candidatos Faça\n",
        "                Se grauU >= grau e grafo[u][v] == 1 Então\n",
        "                    Adicione (u, grauU) a novosCandidatos\n",
        "                Fim Se\n",
        "            Fim Para\n",
        "\n",
        "            candidatos = novosCandidatos\n",
        "        Fim Se\n",
        "    Fim Enquanto\n",
        "\n",
        "    Retorne cliqueMaxima\n",
        "Fim Função\n",
        "```"
      ],
      "metadata": {
        "id": "R8fcCgfNuU1Z"
      }
    },
    {
      "cell_type": "markdown",
      "source": [
        "Neste pseudocódigo, a poda é feita comparando a soma do tamanho da clique atual (cliqueMaxima.tamanho) com o grau do nó candidato (grau). Se essa soma for menor ou igual ao tamanho da clique máxima conhecida (cliqueMaximaAtual.tamanho), sabemos que adicionar o nó candidato não levará a uma clique maior, então podemos pular essa iteração."
      ],
      "metadata": {
        "id": "nMqbqKPVxAEH"
      }
    },
    {
      "cell_type": "markdown",
      "source": [
        "## Threads OpenMP"
      ],
      "metadata": {
        "id": "ushtAt-LwngW"
      }
    },
    {
      "cell_type": "code",
      "source": [
        "!g++ -Wall -O3 -g -fopenmp src/clique_exaustivo_omp.cpp -o clique_exaustivo_omp"
      ],
      "metadata": {
        "id": "emZOairEuBDl"
      },
      "execution_count": 43,
      "outputs": []
    },
    {
      "cell_type": "code",
      "source": [
        "!./clique_exaustivo_omp"
      ],
      "metadata": {
        "colab": {
          "base_uri": "https://localhost:8080/"
        },
        "id": "squu2_tguhFa",
        "outputId": "fcd2dffb-30cc-4508-8ba3-cb751b4a5edf"
      },
      "execution_count": 44,
      "outputs": [
        {
          "output_type": "stream",
          "name": "stdout",
          "text": [
            "Clique máxima encontrada: [3, 4, 18, 20, 26, 29, 39, 44, 46, 48, 50]\n"
          ]
        }
      ]
    },
    {
      "cell_type": "markdown",
      "source": [
        "## Verifica Clique Máximo Encontrado"
      ],
      "metadata": {
        "id": "G1C3fhFrwr9p"
      }
    },
    {
      "cell_type": "code",
      "source": [
        "!python3 utils/clique_correto.py"
      ],
      "metadata": {
        "colab": {
          "base_uri": "https://localhost:8080/"
        },
        "id": "IQjbDOhIujYp",
        "outputId": "e3305cef-122d-4a4e-ed4f-c331d289f3b6"
      },
      "execution_count": 45,
      "outputs": [
        {
          "output_type": "stream",
          "name": "stdout",
          "text": [
            "Clique máxima encontrada: [18, 20, 22, 26, 27, 30, 32, 37, 41, 43, 49]\n"
          ]
        }
      ]
    },
    {
      "cell_type": "markdown",
      "source": [
        "## Iterações"
      ],
      "metadata": {
        "id": "FsqHj6hsxJTK"
      }
    },
    {
      "cell_type": "markdown",
      "source": [
        "- Diferenciar SpeedUps\n",
        "- Comentários código e explicações dos seus usos"
      ],
      "metadata": {
        "id": "mA0zQHjtxLwf"
      }
    },
    {
      "cell_type": "code",
      "source": [],
      "metadata": {
        "id": "M89H6NnBvm-T"
      },
      "execution_count": null,
      "outputs": []
    }
  ]
}